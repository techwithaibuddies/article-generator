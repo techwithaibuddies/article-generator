{
 "cells": [
  {
   "cell_type": "code",
   "execution_count": 1,
   "metadata": {},
   "outputs": [],
   "source": [
    "import os\n",
    "import re\n",
    "import pandas as pd\n",
    "import matplotlib.pyplot as plt"
   ]
  },
  {
   "cell_type": "code",
   "execution_count": 2,
   "metadata": {},
   "outputs": [],
   "source": [
    "raw_data_path = os.path.join('/home/prashanth/DS/NLP/article-generator/data/raw/Hindu_articles.csv')"
   ]
  },
  {
   "cell_type": "code",
   "execution_count": 3,
   "metadata": {},
   "outputs": [],
   "source": [
    "raw_data = pd.read_csv(raw_data_path)"
   ]
  },
  {
   "cell_type": "code",
   "execution_count": 4,
   "metadata": {},
   "outputs": [
    {
     "data": {
      "text/html": [
       "<div>\n",
       "<style scoped>\n",
       "    .dataframe tbody tr th:only-of-type {\n",
       "        vertical-align: middle;\n",
       "    }\n",
       "\n",
       "    .dataframe tbody tr th {\n",
       "        vertical-align: top;\n",
       "    }\n",
       "\n",
       "    .dataframe thead th {\n",
       "        text-align: right;\n",
       "    }\n",
       "</style>\n",
       "<table border=\"1\" class=\"dataframe\">\n",
       "  <thead>\n",
       "    <tr style=\"text-align: right;\">\n",
       "      <th></th>\n",
       "      <th>Title</th>\n",
       "      <th>Article</th>\n",
       "    </tr>\n",
       "  </thead>\n",
       "  <tbody>\n",
       "    <tr>\n",
       "      <th>0</th>\n",
       "      <td>Passenger vehicles wholesales rise 26.73% to r...</td>\n",
       "      <td>Domestic passenger vehicle wholesales grew 26....</td>\n",
       "    </tr>\n",
       "    <tr>\n",
       "      <th>1</th>\n",
       "      <td>Lamborghini unveils Urus S at starting price o...</td>\n",
       "      <td>Automobili Lamborghini has unveiled Urus S, th...</td>\n",
       "    </tr>\n",
       "    <tr>\n",
       "      <th>2</th>\n",
       "      <td>Rupee trade arrangement to help cut transactio...</td>\n",
       "      <td>International trade in the domestic currency w...</td>\n",
       "    </tr>\n",
       "    <tr>\n",
       "      <th>3</th>\n",
       "      <td>G-20 Finance Ministers discuss debt distress, ...</td>\n",
       "      <td>G-20 countries discussed the debt distress of ...</td>\n",
       "    </tr>\n",
       "    <tr>\n",
       "      <th>4</th>\n",
       "      <td>Goods exports grew 6% , imports 16.5% this fiscal</td>\n",
       "      <td>India’s goods exports declined for the second ...</td>\n",
       "    </tr>\n",
       "  </tbody>\n",
       "</table>\n",
       "</div>"
      ],
      "text/plain": [
       "                                               Title  \\\n",
       "0  Passenger vehicles wholesales rise 26.73% to r...   \n",
       "1  Lamborghini unveils Urus S at starting price o...   \n",
       "2  Rupee trade arrangement to help cut transactio...   \n",
       "3  G-20 Finance Ministers discuss debt distress, ...   \n",
       "4  Goods exports grew 6% , imports 16.5% this fiscal   \n",
       "\n",
       "                                             Article  \n",
       "0  Domestic passenger vehicle wholesales grew 26....  \n",
       "1  Automobili Lamborghini has unveiled Urus S, th...  \n",
       "2  International trade in the domestic currency w...  \n",
       "3  G-20 countries discussed the debt distress of ...  \n",
       "4  India’s goods exports declined for the second ...  "
      ]
     },
     "execution_count": 4,
     "metadata": {},
     "output_type": "execute_result"
    }
   ],
   "source": [
    "raw_data.head()"
   ]
  },
  {
   "cell_type": "code",
   "execution_count": 5,
   "metadata": {},
   "outputs": [],
   "source": [
    "# Basic analysis of articles\n",
    "num_articles = len(raw_data)\n",
    "avg_article_length = raw_data['Article'].apply(lambda x: len(str(x).split()) if pd.notna(x) else 0).mean()\n",
    "max_article_length = raw_data['Article'].apply(lambda x: len(str(x).split()) if pd.notna(x) else 0).max()"
   ]
  },
  {
   "cell_type": "code",
   "execution_count": 6,
   "metadata": {},
   "outputs": [
    {
     "name": "stdout",
     "output_type": "stream",
     "text": [
      "Number of articles: 8922\n",
      "Average article length: 541.57 words\n",
      "Maximum article length: 8879 words\n"
     ]
    }
   ],
   "source": [
    "print(f\"Number of articles: {num_articles}\")\n",
    "print(f\"Average article length: {avg_article_length:.2f} words\")\n",
    "print(f\"Maximum article length: {max_article_length} words\")"
   ]
  },
  {
   "cell_type": "code",
   "execution_count": 7,
   "metadata": {},
   "outputs": [
    {
     "data": {
      "image/png": "[encoded data removed]",
      "text/plain": [
       "<Figure size 640x480 with 1 Axes>"
      ]
     },
     "metadata": {},
     "output_type": "display_data"
    }
   ],
   "source": [
    "# Visualize article lengths (example using matplotlib)\n",
    "import matplotlib.pyplot as plt\n",
    "\n",
    "plt.hist(raw_data['Article'].apply(lambda x: len(str(x).split()) if pd.notna(x) else 0), bins=30)\n",
    "plt.xlabel('Article Length')\n",
    "plt.ylabel('Frequency')\n",
    "plt.title('Distribution of Article Lengths')\n",
    "plt.show()"
   ]
  },
  {
   "cell_type": "code",
   "execution_count": 8,
   "metadata": {},
   "outputs": [],
   "source": [
    "# Define the phrases to be identified and removed\n",
    "phrases = [\"Sci-Five |\", \"Quiz |\", \"Daily Quiz |\"]\n",
    "\n",
    "# Create masks for rows starting with specified phrases or \"\\n\"\n",
    "title_mask = raw_data['Title'].str.startswith(tuple(phrases))\n",
    "article_mask = raw_data['Article'].str.startswith(\"\\n\")\n",
    "\n",
    "# Combine masks using logical OR\n",
    "mask = title_mask | article_mask\n",
    "\n",
    "# Filter out rows based on the combined mask\n",
    "df = raw_data[~mask]"
   ]
  },
  {
   "cell_type": "code",
   "execution_count": 9,
   "metadata": {},
   "outputs": [
    {
     "data": {
      "text/plain": [
       "(8467, 2)"
      ]
     },
     "execution_count": 9,
     "metadata": {},
     "output_type": "execute_result"
    }
   ],
   "source": [
    "df.shape"
   ]
  },
  {
   "cell_type": "code",
   "execution_count": 10,
   "metadata": {},
   "outputs": [
    {
     "data": {
      "image/png": "[encoded data removed]",
      "text/plain": [
       "<Figure size 640x480 with 1 Axes>"
      ]
     },
     "metadata": {},
     "output_type": "display_data"
    }
   ],
   "source": [
    "# Visualize article lengths (example using matplotlib)\n",
    "import matplotlib.pyplot as plt\n",
    "\n",
    "plt.hist(df['Article'].apply(lambda x: len(str(x).split()) if pd.notna(x) else 0), bins=30)\n",
    "plt.xlabel('Article Length')\n",
    "plt.ylabel('Frequency')\n",
    "plt.title('Distribution of Article Lengths')\n",
    "plt.show()"
   ]
  },
  {
   "cell_type": "code",
   "execution_count": 11,
   "metadata": {},
   "outputs": [],
   "source": [
    "# Remove articles with length less than 300 characters\n",
    "df = df[df['Article'].str.len() >= 300]"
   ]
  },
  {
   "cell_type": "code",
   "execution_count": 12,
   "metadata": {},
   "outputs": [
    {
     "data": {
      "text/plain": [
       "(8439, 2)"
      ]
     },
     "execution_count": 12,
     "metadata": {},
     "output_type": "execute_result"
    }
   ],
   "source": [
    "df.shape"
   ]
  },
  {
   "cell_type": "code",
   "execution_count": 13,
   "metadata": {},
   "outputs": [
    {
     "data": {
      "text/html": [
       "<div>\n",
       "<style scoped>\n",
       "    .dataframe tbody tr th:only-of-type {\n",
       "        vertical-align: middle;\n",
       "    }\n",
       "\n",
       "    .dataframe tbody tr th {\n",
       "        vertical-align: top;\n",
       "    }\n",
       "\n",
       "    .dataframe thead th {\n",
       "        text-align: right;\n",
       "    }\n",
       "</style>\n",
       "<table border=\"1\" class=\"dataframe\">\n",
       "  <thead>\n",
       "    <tr style=\"text-align: right;\">\n",
       "      <th></th>\n",
       "      <th>Title</th>\n",
       "      <th>Article</th>\n",
       "    </tr>\n",
       "  </thead>\n",
       "  <tbody>\n",
       "    <tr>\n",
       "      <th>0</th>\n",
       "      <td>Passenger vehicles wholesales rise 26.73% to r...</td>\n",
       "      <td>Domestic passenger vehicle wholesales grew 26....</td>\n",
       "    </tr>\n",
       "    <tr>\n",
       "      <th>1</th>\n",
       "      <td>Lamborghini unveils Urus S at starting price o...</td>\n",
       "      <td>Automobili Lamborghini has unveiled Urus S, th...</td>\n",
       "    </tr>\n",
       "    <tr>\n",
       "      <th>2</th>\n",
       "      <td>Rupee trade arrangement to help cut transactio...</td>\n",
       "      <td>International trade in the domestic currency w...</td>\n",
       "    </tr>\n",
       "    <tr>\n",
       "      <th>3</th>\n",
       "      <td>G-20 Finance Ministers discuss debt distress, ...</td>\n",
       "      <td>G-20 countries discussed the debt distress of ...</td>\n",
       "    </tr>\n",
       "    <tr>\n",
       "      <th>4</th>\n",
       "      <td>Goods exports grew 6% , imports 16.5% this fiscal</td>\n",
       "      <td>India’s goods exports declined for the second ...</td>\n",
       "    </tr>\n",
       "  </tbody>\n",
       "</table>\n",
       "</div>"
      ],
      "text/plain": [
       "                                               Title  \\\n",
       "0  Passenger vehicles wholesales rise 26.73% to r...   \n",
       "1  Lamborghini unveils Urus S at starting price o...   \n",
       "2  Rupee trade arrangement to help cut transactio...   \n",
       "3  G-20 Finance Ministers discuss debt distress, ...   \n",
       "4  Goods exports grew 6% , imports 16.5% this fiscal   \n",
       "\n",
       "                                             Article  \n",
       "0  Domestic passenger vehicle wholesales grew 26....  \n",
       "1  Automobili Lamborghini has unveiled Urus S, th...  \n",
       "2  International trade in the domestic currency w...  \n",
       "3  G-20 countries discussed the debt distress of ...  \n",
       "4  India’s goods exports declined for the second ...  "
      ]
     },
     "execution_count": 13,
     "metadata": {},
     "output_type": "execute_result"
    }
   ],
   "source": [
    "df.head()"
   ]
  },
  {
   "cell_type": "code",
   "execution_count": 14,
   "metadata": {},
   "outputs": [
    {
     "name": "stdout",
     "output_type": "stream",
     "text": [
      "<class 'pandas.core.frame.DataFrame'>\n",
      "Index: 8439 entries, 0 to 8921\n",
      "Data columns (total 2 columns):\n",
      " #   Column   Non-Null Count  Dtype \n",
      "---  ------   --------------  ----- \n",
      " 0   Title    8439 non-null   object\n",
      " 1   Article  8439 non-null   object\n",
      "dtypes: object(2)\n",
      "memory usage: 197.8+ KB\n"
     ]
    }
   ],
   "source": [
    "df.info()"
   ]
  },
  {
   "cell_type": "code",
   "execution_count": 15,
   "metadata": {},
   "outputs": [
    {
     "data": {
      "text/plain": [
       "Title      0\n",
       "Article    0\n",
       "dtype: int64"
      ]
     },
     "execution_count": 15,
     "metadata": {},
     "output_type": "execute_result"
    }
   ],
   "source": [
    "df.isnull().sum()"
   ]
  },
  {
   "cell_type": "code",
   "execution_count": 16,
   "metadata": {},
   "outputs": [],
   "source": [
    "def preprocessing(text):\n",
    "    # Remove specific patterns from the text\n",
    "    pattern1 = re.compile(r'\\n\\nCOMMents\\n\\n SHARE\\n\\n.*(?:\\n.*)*')\n",
    "    text = re.sub(pattern1, '', text)\n",
    "    pattern2 = re.compile(r'\\n\\| Photo Credit:.*(?:\\n.*)?')\n",
    "    text = re.sub(pattern2, '', text)\n",
    "    text = re.sub(r'\\s+', ' ', text).strip()\n",
    "    \n",
    "    return text\n",
    "\n",
    "\n",
    "# Apply the preprocess_text function to each example in the DataFrame\n",
    "df['processed_article'] = df['Article'].apply(preprocessing)"
   ]
  },
  {
   "cell_type": "code",
   "execution_count": 17,
   "metadata": {},
   "outputs": [
    {
     "data": {
      "text/html": [
       "<div>\n",
       "<style scoped>\n",
       "    .dataframe tbody tr th:only-of-type {\n",
       "        vertical-align: middle;\n",
       "    }\n",
       "\n",
       "    .dataframe tbody tr th {\n",
       "        vertical-align: top;\n",
       "    }\n",
       "\n",
       "    .dataframe thead th {\n",
       "        text-align: right;\n",
       "    }\n",
       "</style>\n",
       "<table border=\"1\" class=\"dataframe\">\n",
       "  <thead>\n",
       "    <tr style=\"text-align: right;\">\n",
       "      <th></th>\n",
       "      <th>Title</th>\n",
       "      <th>Article</th>\n",
       "      <th>processed_article</th>\n",
       "    </tr>\n",
       "  </thead>\n",
       "  <tbody>\n",
       "    <tr>\n",
       "      <th>0</th>\n",
       "      <td>Passenger vehicles wholesales rise 26.73% to r...</td>\n",
       "      <td>Domestic passenger vehicle wholesales grew 26....</td>\n",
       "      <td>Domestic passenger vehicle wholesales grew 26....</td>\n",
       "    </tr>\n",
       "    <tr>\n",
       "      <th>1</th>\n",
       "      <td>Lamborghini unveils Urus S at starting price o...</td>\n",
       "      <td>Automobili Lamborghini has unveiled Urus S, th...</td>\n",
       "      <td>Automobili Lamborghini has unveiled Urus S, th...</td>\n",
       "    </tr>\n",
       "    <tr>\n",
       "      <th>2</th>\n",
       "      <td>Rupee trade arrangement to help cut transactio...</td>\n",
       "      <td>International trade in the domestic currency w...</td>\n",
       "      <td>International trade in the domestic currency w...</td>\n",
       "    </tr>\n",
       "    <tr>\n",
       "      <th>3</th>\n",
       "      <td>G-20 Finance Ministers discuss debt distress, ...</td>\n",
       "      <td>G-20 countries discussed the debt distress of ...</td>\n",
       "      <td>G-20 countries discussed the debt distress of ...</td>\n",
       "    </tr>\n",
       "    <tr>\n",
       "      <th>4</th>\n",
       "      <td>Goods exports grew 6% , imports 16.5% this fiscal</td>\n",
       "      <td>India’s goods exports declined for the second ...</td>\n",
       "      <td>India’s goods exports declined for the second ...</td>\n",
       "    </tr>\n",
       "  </tbody>\n",
       "</table>\n",
       "</div>"
      ],
      "text/plain": [
       "                                               Title  \\\n",
       "0  Passenger vehicles wholesales rise 26.73% to r...   \n",
       "1  Lamborghini unveils Urus S at starting price o...   \n",
       "2  Rupee trade arrangement to help cut transactio...   \n",
       "3  G-20 Finance Ministers discuss debt distress, ...   \n",
       "4  Goods exports grew 6% , imports 16.5% this fiscal   \n",
       "\n",
       "                                             Article  \\\n",
       "0  Domestic passenger vehicle wholesales grew 26....   \n",
       "1  Automobili Lamborghini has unveiled Urus S, th...   \n",
       "2  International trade in the domestic currency w...   \n",
       "3  G-20 countries discussed the debt distress of ...   \n",
       "4  India’s goods exports declined for the second ...   \n",
       "\n",
       "                                   processed_article  \n",
       "0  Domestic passenger vehicle wholesales grew 26....  \n",
       "1  Automobili Lamborghini has unveiled Urus S, th...  \n",
       "2  International trade in the domestic currency w...  \n",
       "3  G-20 countries discussed the debt distress of ...  \n",
       "4  India’s goods exports declined for the second ...  "
      ]
     },
     "execution_count": 17,
     "metadata": {},
     "output_type": "execute_result"
    }
   ],
   "source": [
    "df.head()"
   ]
  },
  {
   "cell_type": "code",
   "execution_count": 18,
   "metadata": {},
   "outputs": [],
   "source": [
    "# Basic analysis of articles\n",
    "num_articles = len(df)\n",
    "avg_article_length = df['Article'].apply(lambda x: len(str(x).split()) if pd.notna(x) else 0).mean()\n",
    "max_article_length = df['Article'].apply(lambda x: len(str(x).split()) if pd.notna(x) else 0).max()\n"
   ]
  },
  {
   "cell_type": "code",
   "execution_count": 19,
   "metadata": {},
   "outputs": [
    {
     "name": "stdout",
     "output_type": "stream",
     "text": [
      "Number of articles: 8439\n",
      "Average article length: 551.63 words\n",
      "Maximum article length: 8879 words\n"
     ]
    }
   ],
   "source": [
    "print(f\"Number of articles: {num_articles}\")\n",
    "print(f\"Average article length: {avg_article_length:.2f} words\")\n",
    "print(f\"Maximum article length: {max_article_length} words\")"
   ]
  },
  {
   "cell_type": "code",
   "execution_count": 20,
   "metadata": {},
   "outputs": [
    {
     "name": "stdout",
     "output_type": "stream",
     "text": [
      "Infosys Q4 profit slides 7% from December quarter, company misses revenue estimate\n",
      "****************************************************************************************************\n",
      "Infosys on Thursday said it recorded an 8% year-on-year increase in fourth-quarter net profit to ₹6,128 crore. Profit fell 7% compared with the preceding quarter. The company has estimated weak revenue growth of 4-7% for FY24, citing uncertain market conditions.\n",
      "Revenue grew 16% to ₹37,441 crore in Q4 from a year earlier. but slid 2.3% compared with the December 2022 quarter. In dollar terms, revenue declined 3.2% to $4.55 billion, compared with the year-earlier period. Whole-year revenue in dollars increased 15.4% although the company had estimated 16-16.5% growth.\n",
      "“Infosys delivered a surprisingly weak set of numbers for Q4 and missed street estimates on all multiple fronts on the back of unplanned project ramp-downs and cancellation across sectors,” said Sanjeev Hota, head of research, Sharekhan by BNP Paribas.\n",
      "Salil Parekh, CEO and MD said the company saw changes in environment in Q4 as uncertainty still ruled the markets. “We have seen unplanned project ramp-downs with some of our clients due to delay in decision making and that resulted in lower volumes, and also one-time revenue impact,’‘ he said.\n",
      "The impact in Q4 was visible across sectors such as in telecom, hi-tech, retail, and financial services and mostly in mortgages, asset management and investment banking, he said. Despite challenges, he said, the company bagged deals whose total contract value is worth $2.1 billion, and $9.8 billion in Q4 and in the fiscal, respectively.\n",
      "Although uncertainty remained in the market, he said, the deal pipeline was ‘extremely’ strong, with several mega deals and opportunities for cost efficiency, and consolidation opportunities. “We have expanded our internal programme on efficiency and cost to build a path to higher margins in the medium term,” he added.\n",
      "Infosys reported an operating margin of 21% for FY23 while the margin contracted by 50 basis points sequentially during the fourth quarter.\n",
      "“We are working on various cost optimisation measures such as changing the employee pyramid and utilisation,” said Nilanjan Roy, chief financial officer.\n",
      "He said automation would help spur margins, drive the right onsite-offshore mix, while the focus on digital would also help. The company was also working with clients for better pricing, Mr. Roy added.\n",
      "Infosys reported a drop in utilisation from 88% to 80% as the size of its bench expanded in Q4.\n",
      "“We have lower utilisation and enough sitting on the bench. People on the bench are getting skilled and trained. We have an agile model of hiring from campuses in tune with demand,’‘ Mr. Roy responded to a query on hiring in FY24.\n",
      "However, Infosys’ attrition fell to 20.9% in Q4. The company also saw a net decline in staff numbers by 3,611, bringing total headcount to 3,43,234 at the end of March.\n",
      "(With PTI inputs)\n",
      "\n",
      "COMMents\n",
      "\n",
      " SHARE\n",
      "\n",
      "\n",
      "company information\n",
      " \n",
      "/\n",
      "\n",
      "business (general)\n",
      "\n",
      "\n",
      "****************************************************************************************************\n",
      "Infosys on Thursday said it recorded an 8% year-on-year increase in fourth-quarter net profit to ₹6,128 crore. Profit fell 7% compared with the preceding quarter. The company has estimated weak revenue growth of 4-7% for FY24, citing uncertain market conditions. Revenue grew 16% to ₹37,441 crore in Q4 from a year earlier. but slid 2.3% compared with the December 2022 quarter. In dollar terms, revenue declined 3.2% to $4.55 billion, compared with the year-earlier period. Whole-year revenue in dollars increased 15.4% although the company had estimated 16-16.5% growth. “Infosys delivered a surprisingly weak set of numbers for Q4 and missed street estimates on all multiple fronts on the back of unplanned project ramp-downs and cancellation across sectors,” said Sanjeev Hota, head of research, Sharekhan by BNP Paribas. Salil Parekh, CEO and MD said the company saw changes in environment in Q4 as uncertainty still ruled the markets. “We have seen unplanned project ramp-downs with some of our clients due to delay in decision making and that resulted in lower volumes, and also one-time revenue impact,’‘ he said. The impact in Q4 was visible across sectors such as in telecom, hi-tech, retail, and financial services and mostly in mortgages, asset management and investment banking, he said. Despite challenges, he said, the company bagged deals whose total contract value is worth $2.1 billion, and $9.8 billion in Q4 and in the fiscal, respectively. Although uncertainty remained in the market, he said, the deal pipeline was ‘extremely’ strong, with several mega deals and opportunities for cost efficiency, and consolidation opportunities. “We have expanded our internal programme on efficiency and cost to build a path to higher margins in the medium term,” he added. Infosys reported an operating margin of 21% for FY23 while the margin contracted by 50 basis points sequentially during the fourth quarter. “We are working on various cost optimisation measures such as changing the employee pyramid and utilisation,” said Nilanjan Roy, chief financial officer. He said automation would help spur margins, drive the right onsite-offshore mix, while the focus on digital would also help. The company was also working with clients for better pricing, Mr. Roy added. Infosys reported a drop in utilisation from 88% to 80% as the size of its bench expanded in Q4. “We have lower utilisation and enough sitting on the bench. People on the bench are getting skilled and trained. We have an agile model of hiring from campuses in tune with demand,’‘ Mr. Roy responded to a query on hiring in FY24. However, Infosys’ attrition fell to 20.9% in Q4. The company also saw a net decline in staff numbers by 3,611, bringing total headcount to 3,43,234 at the end of March. (With PTI inputs)\n"
     ]
    }
   ],
   "source": [
    "title = df['Title'][5]\n",
    "print(title)\n",
    "print('*' * 100)\n",
    "article = df['Article'][5]\n",
    "print(article)\n",
    "print('*' * 100)\n",
    "processed_article = df['processed_article'][5]\n",
    "print(processed_article)"
   ]
  },
  {
   "cell_type": "code",
   "execution_count": 21,
   "metadata": {},
   "outputs": [],
   "source": [
    "import nltk\n",
    "from nltk.tokenize import sent_tokenize, word_tokenize\n",
    "from nltk.corpus import stopwords\n",
    "from nltk.stem import WordNetLemmatizer"
   ]
  },
  {
   "cell_type": "code",
   "execution_count": 22,
   "metadata": {},
   "outputs": [],
   "source": [
    "# Initialize stopwords and lemmatizer\n",
    "stop_words = set(stopwords.words('english'))\n",
    "lemmatizer = WordNetLemmatizer()"
   ]
  },
  {
   "cell_type": "code",
   "execution_count": 23,
   "metadata": {},
   "outputs": [],
   "source": [
    "def handle_numericals(text):\n",
    "    # Handle currency symbols (₹, $, etc.)\n",
    "    text = re.sub(r'₹\\s?(\\d+(?:,\\d{3})*(?:\\.\\d+)?)', r'currency_\\1', text)\n",
    "    text = re.sub(r'\\$\\s?(\\d+(?:,\\d{3})*(?:\\.\\d+)?)', r'currency_\\1', text)\n",
    "    # Handle percentages (e.g., 7%)\n",
    "    text = re.sub(r'(\\d+(?:\\.\\d+)?)%', r'\\1_percent', text)\n",
    "    # Handle dates (e.g., Q4, FY24)\n",
    "    text = re.sub(r'Q\\d+', 'quarter', text)\n",
    "    text = re.sub(r'FY\\d+', 'fiscal_year', text)\n",
    "    return text"
   ]
  },
  {
   "cell_type": "code",
   "execution_count": 24,
   "metadata": {},
   "outputs": [],
   "source": [
    "df['processed_article'] = df['processed_article'].apply(handle_numericals)"
   ]
  },
  {
   "cell_type": "code",
   "execution_count": 25,
   "metadata": {},
   "outputs": [
    {
     "data": {
      "text/html": [
       "<div>\n",
       "<style scoped>\n",
       "    .dataframe tbody tr th:only-of-type {\n",
       "        vertical-align: middle;\n",
       "    }\n",
       "\n",
       "    .dataframe tbody tr th {\n",
       "        vertical-align: top;\n",
       "    }\n",
       "\n",
       "    .dataframe thead th {\n",
       "        text-align: right;\n",
       "    }\n",
       "</style>\n",
       "<table border=\"1\" class=\"dataframe\">\n",
       "  <thead>\n",
       "    <tr style=\"text-align: right;\">\n",
       "      <th></th>\n",
       "      <th>Title</th>\n",
       "      <th>Article</th>\n",
       "      <th>processed_article</th>\n",
       "    </tr>\n",
       "  </thead>\n",
       "  <tbody>\n",
       "    <tr>\n",
       "      <th>0</th>\n",
       "      <td>Passenger vehicles wholesales rise 26.73% to r...</td>\n",
       "      <td>Domestic passenger vehicle wholesales grew 26....</td>\n",
       "      <td>Domestic passenger vehicle wholesales grew 26....</td>\n",
       "    </tr>\n",
       "    <tr>\n",
       "      <th>1</th>\n",
       "      <td>Lamborghini unveils Urus S at starting price o...</td>\n",
       "      <td>Automobili Lamborghini has unveiled Urus S, th...</td>\n",
       "      <td>Automobili Lamborghini has unveiled Urus S, th...</td>\n",
       "    </tr>\n",
       "    <tr>\n",
       "      <th>2</th>\n",
       "      <td>Rupee trade arrangement to help cut transactio...</td>\n",
       "      <td>International trade in the domestic currency w...</td>\n",
       "      <td>International trade in the domestic currency w...</td>\n",
       "    </tr>\n",
       "    <tr>\n",
       "      <th>3</th>\n",
       "      <td>G-20 Finance Ministers discuss debt distress, ...</td>\n",
       "      <td>G-20 countries discussed the debt distress of ...</td>\n",
       "      <td>G-20 countries discussed the debt distress of ...</td>\n",
       "    </tr>\n",
       "    <tr>\n",
       "      <th>4</th>\n",
       "      <td>Goods exports grew 6% , imports 16.5% this fiscal</td>\n",
       "      <td>India’s goods exports declined for the second ...</td>\n",
       "      <td>India’s goods exports declined for the second ...</td>\n",
       "    </tr>\n",
       "  </tbody>\n",
       "</table>\n",
       "</div>"
      ],
      "text/plain": [
       "                                               Title  \\\n",
       "0  Passenger vehicles wholesales rise 26.73% to r...   \n",
       "1  Lamborghini unveils Urus S at starting price o...   \n",
       "2  Rupee trade arrangement to help cut transactio...   \n",
       "3  G-20 Finance Ministers discuss debt distress, ...   \n",
       "4  Goods exports grew 6% , imports 16.5% this fiscal   \n",
       "\n",
       "                                             Article  \\\n",
       "0  Domestic passenger vehicle wholesales grew 26....   \n",
       "1  Automobili Lamborghini has unveiled Urus S, th...   \n",
       "2  International trade in the domestic currency w...   \n",
       "3  G-20 countries discussed the debt distress of ...   \n",
       "4  India’s goods exports declined for the second ...   \n",
       "\n",
       "                                   processed_article  \n",
       "0  Domestic passenger vehicle wholesales grew 26....  \n",
       "1  Automobili Lamborghini has unveiled Urus S, th...  \n",
       "2  International trade in the domestic currency w...  \n",
       "3  G-20 countries discussed the debt distress of ...  \n",
       "4  India’s goods exports declined for the second ...  "
      ]
     },
     "execution_count": 25,
     "metadata": {},
     "output_type": "execute_result"
    }
   ],
   "source": [
    "df.head()"
   ]
  },
  {
   "cell_type": "code",
   "execution_count": 26,
   "metadata": {},
   "outputs": [
    {
     "name": "stdout",
     "output_type": "stream",
     "text": [
      "Infosys Q4 profit slides 7% from December quarter, company misses revenue estimate\n",
      "****************************************************************************************************\n",
      "Infosys on Thursday said it recorded an 8% year-on-year increase in fourth-quarter net profit to ₹6,128 crore. Profit fell 7% compared with the preceding quarter. The company has estimated weak revenue growth of 4-7% for FY24, citing uncertain market conditions.\n",
      "Revenue grew 16% to ₹37,441 crore in Q4 from a year earlier. but slid 2.3% compared with the December 2022 quarter. In dollar terms, revenue declined 3.2% to $4.55 billion, compared with the year-earlier period. Whole-year revenue in dollars increased 15.4% although the company had estimated 16-16.5% growth.\n",
      "“Infosys delivered a surprisingly weak set of numbers for Q4 and missed street estimates on all multiple fronts on the back of unplanned project ramp-downs and cancellation across sectors,” said Sanjeev Hota, head of research, Sharekhan by BNP Paribas.\n",
      "Salil Parekh, CEO and MD said the company saw changes in environment in Q4 as uncertainty still ruled the markets. “We have seen unplanned project ramp-downs with some of our clients due to delay in decision making and that resulted in lower volumes, and also one-time revenue impact,’‘ he said.\n",
      "The impact in Q4 was visible across sectors such as in telecom, hi-tech, retail, and financial services and mostly in mortgages, asset management and investment banking, he said. Despite challenges, he said, the company bagged deals whose total contract value is worth $2.1 billion, and $9.8 billion in Q4 and in the fiscal, respectively.\n",
      "Although uncertainty remained in the market, he said, the deal pipeline was ‘extremely’ strong, with several mega deals and opportunities for cost efficiency, and consolidation opportunities. “We have expanded our internal programme on efficiency and cost to build a path to higher margins in the medium term,” he added.\n",
      "Infosys reported an operating margin of 21% for FY23 while the margin contracted by 50 basis points sequentially during the fourth quarter.\n",
      "“We are working on various cost optimisation measures such as changing the employee pyramid and utilisation,” said Nilanjan Roy, chief financial officer.\n",
      "He said automation would help spur margins, drive the right onsite-offshore mix, while the focus on digital would also help. The company was also working with clients for better pricing, Mr. Roy added.\n",
      "Infosys reported a drop in utilisation from 88% to 80% as the size of its bench expanded in Q4.\n",
      "“We have lower utilisation and enough sitting on the bench. People on the bench are getting skilled and trained. We have an agile model of hiring from campuses in tune with demand,’‘ Mr. Roy responded to a query on hiring in FY24.\n",
      "However, Infosys’ attrition fell to 20.9% in Q4. The company also saw a net decline in staff numbers by 3,611, bringing total headcount to 3,43,234 at the end of March.\n",
      "(With PTI inputs)\n",
      "\n",
      "COMMents\n",
      "\n",
      " SHARE\n",
      "\n",
      "\n",
      "company information\n",
      " \n",
      "/\n",
      "\n",
      "business (general)\n",
      "\n",
      "\n",
      "****************************************************************************************************\n",
      "Infosys on Thursday said it recorded an 8_percent year-on-year increase in fourth-quarter net profit to currency_6,128 crore. Profit fell 7_percent compared with the preceding quarter. The company has estimated weak revenue growth of 4-7_percent for fiscal_year, citing uncertain market conditions. Revenue grew 16_percent to currency_37,441 crore in quarter from a year earlier. but slid 2.3_percent compared with the December 2022 quarter. In dollar terms, revenue declined 3.2_percent to currency_4.55 billion, compared with the year-earlier period. Whole-year revenue in dollars increased 15.4_percent although the company had estimated 16-16.5_percent growth. “Infosys delivered a surprisingly weak set of numbers for quarter and missed street estimates on all multiple fronts on the back of unplanned project ramp-downs and cancellation across sectors,” said Sanjeev Hota, head of research, Sharekhan by BNP Paribas. Salil Parekh, CEO and MD said the company saw changes in environment in quarter as uncertainty still ruled the markets. “We have seen unplanned project ramp-downs with some of our clients due to delay in decision making and that resulted in lower volumes, and also one-time revenue impact,’‘ he said. The impact in quarter was visible across sectors such as in telecom, hi-tech, retail, and financial services and mostly in mortgages, asset management and investment banking, he said. Despite challenges, he said, the company bagged deals whose total contract value is worth currency_2.1 billion, and currency_9.8 billion in quarter and in the fiscal, respectively. Although uncertainty remained in the market, he said, the deal pipeline was ‘extremely’ strong, with several mega deals and opportunities for cost efficiency, and consolidation opportunities. “We have expanded our internal programme on efficiency and cost to build a path to higher margins in the medium term,” he added. Infosys reported an operating margin of 21_percent for fiscal_year while the margin contracted by 50 basis points sequentially during the fourth quarter. “We are working on various cost optimisation measures such as changing the employee pyramid and utilisation,” said Nilanjan Roy, chief financial officer. He said automation would help spur margins, drive the right onsite-offshore mix, while the focus on digital would also help. The company was also working with clients for better pricing, Mr. Roy added. Infosys reported a drop in utilisation from 88_percent to 80_percent as the size of its bench expanded in quarter. “We have lower utilisation and enough sitting on the bench. People on the bench are getting skilled and trained. We have an agile model of hiring from campuses in tune with demand,’‘ Mr. Roy responded to a query on hiring in fiscal_year. However, Infosys’ attrition fell to 20.9_percent in quarter. The company also saw a net decline in staff numbers by 3,611, bringing total headcount to 3,43,234 at the end of March. (With PTI inputs)\n"
     ]
    }
   ],
   "source": [
    "title = df['Title'][5]\n",
    "print(title)\n",
    "print('*' * 100)\n",
    "article = df['Article'][5]\n",
    "print(article)\n",
    "print('*' * 100)\n",
    "processed_article = df['processed_article'][5]\n",
    "print(processed_article)"
   ]
  },
  {
   "cell_type": "code",
   "execution_count": 27,
   "metadata": {},
   "outputs": [],
   "source": [
    "from transformers import PegasusForConditionalGeneration, PegasusTokenizer\n",
    "from torch.utils.data import Dataset, DataLoader"
   ]
  },
  {
   "cell_type": "code",
   "execution_count": 28,
   "metadata": {},
   "outputs": [],
   "source": [
    "# Load pre-trained Pegasus model and tokenizer\n",
    "model_name = 'google/pegasus-newsroom'\n",
    "tokenizer = PegasusTokenizer.from_pretrained(model_name)\n",
    "model = PegasusForConditionalGeneration.from_pretrained(model_name)"
   ]
  },
  {
   "cell_type": "code",
   "execution_count": 29,
   "metadata": {},
   "outputs": [],
   "source": [
    "# Step 2: Preprocess Articles for Model Input\n",
    "class ArticleDataset(Dataset):\n",
    "    def __init__(self, tokenizer, articles):\n",
    "        self.tokenizer = tokenizer\n",
    "        self.articles = articles\n",
    "    \n",
    "    def __len__(self):\n",
    "        return len(self.articles)\n",
    "    \n",
    "    def __getitem__(self, idx):\n",
    "        encoded = self.tokenizer(self.articles[idx], return_tensors='pt', truncation=True, padding='max_length', max_length=512)\n",
    "        return encoded\n",
    "\n",
    "# Main script\n",
    "if __name__ == \"__main__\":\n",
    "    # Step 1: Load and Preprocess Raw Data\n",
    "    processed_data = pd.read_csv(\"/home/prashanth/DS/NLP/article-generator/data/processed/processed_articles.csv\")\n",
    "\n",
    "    # Step 2: Preprocess Articles for Model Input\n",
    "    tokenizer = PegasusTokenizer.from_pretrained(\"google/pegasus-xsum\")\n",
    "    dataset = ArticleDataset(tokenizer, processed_data['processed_article'])\n",
    "    dataloader = DataLoader(dataset, batch_size=1, shuffle=False)"
   ]
  },
  {
   "cell_type": "code",
   "execution_count": 30,
   "metadata": {},
   "outputs": [
    {
     "ename": "",
     "evalue": "",
     "output_type": "error",
     "traceback": [
      "\u001b[1;31mCannot execute code, session has been disposed. Please try restarting the Kernel."
     ]
    },
    {
     "ename": "",
     "evalue": "",
     "output_type": "error",
     "traceback": [
      "\u001b[1;31mThe Kernel crashed while executing code in the the current cell or a previous cell. Please review the code in the cell(s) to identify a possible cause of the failure. Click <a href='https://aka.ms/vscodeJupyterKernelCrash'>here</a> for more info. View Jupyter <a href='command:jupyter.viewOutput'>log</a> for further details."
     ]
    }
   ],
   "source": [
    "# Step 3: Generate Summaries\n",
    "model = PegasusForConditionalGeneration.from_pretrained(\"google/pegasus-xsum\")\n",
    "\n",
    "generated_summaries = []\n",
    "for batch in dataloader:\n",
    "    inputs = batch  # Each batch is a dictionary-like object returned by DataLoader\n",
    "    input_ids = inputs['input_ids'].squeeze(0)  # Squeeze to remove batch dimension\n",
    "    attention_mask = inputs['attention_mask'].squeeze(0)  # Squeeze to remove batch dimension\n",
    "    \n",
    "    generated_ids = model.generate(input_ids, attention_mask=attention_mask, max_length=150, num_beams=4, length_penalty=2.0)\n",
    "    generated_texts = tokenizer.batch_decode(generated_ids, skip_special_tokens=True)\n",
    "    generated_summaries.append(\" \".join(generated_texts))\n",
    "\n",
    "# Add generated summaries to the DataFrame\n",
    "processed_data['Generated_Summary'] = generated_summaries\n",
    "\n",
    "# Save DataFrame to CSV\n",
    "processed_data.to_csv(\"/home/prashanth/DS/NLP/article-generator/data/processed/processed_data_with_summaries.csv\", index=False)"
   ]
  },
  {
   "cell_type": "code",
   "execution_count": null,
   "metadata": {},
   "outputs": [],
   "source": [
    "processed_data.head()"
   ]
  },
  {
   "cell_type": "code",
   "execution_count": null,
   "metadata": {},
   "outputs": [],
   "source": [
    "processed_data.shape"
   ]
  },
  {
   "cell_type": "code",
   "execution_count": null,
   "metadata": {},
   "outputs": [],
   "source": []
  }
 ],
 "metadata": {
  "kernelspec": {
   "display_name": "NLP",
   "language": "python",
   "name": "python3"
  },
  "language_info": {
   "codemirror_mode": {
    "name": "ipython",
    "version": 3
   },
   "file_extension": ".py",
   "mimetype": "text/x-python",
   "name": "python",
   "nbconvert_exporter": "python",
   "pygments_lexer": "ipython3",
   "version": "3.9.16"
  },
  "orig_nbformat": 4
 },
 "nbformat": 4,
 "nbformat_minor": 2
}
